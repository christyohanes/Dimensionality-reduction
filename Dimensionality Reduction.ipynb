{
 "cells": [
  {
   "cell_type": "markdown",
   "metadata": {},
   "source": [
    "# Backward Elimination"
   ]
  },
  {
   "cell_type": "code",
   "execution_count": 1,
   "metadata": {},
   "outputs": [
    {
     "data": {
      "text/html": [
       "<div>\n",
       "<style scoped>\n",
       "    .dataframe tbody tr th:only-of-type {\n",
       "        vertical-align: middle;\n",
       "    }\n",
       "\n",
       "    .dataframe tbody tr th {\n",
       "        vertical-align: top;\n",
       "    }\n",
       "\n",
       "    .dataframe thead th {\n",
       "        text-align: right;\n",
       "    }\n",
       "</style>\n",
       "<table border=\"1\" class=\"dataframe\">\n",
       "  <thead>\n",
       "    <tr style=\"text-align: right;\">\n",
       "      <th></th>\n",
       "      <th>sepal_length</th>\n",
       "      <th>sepal_width</th>\n",
       "      <th>petal_length</th>\n",
       "      <th>petal_width</th>\n",
       "      <th>class_label</th>\n",
       "    </tr>\n",
       "  </thead>\n",
       "  <tbody>\n",
       "    <tr>\n",
       "      <th>0</th>\n",
       "      <td>5.1</td>\n",
       "      <td>3.5</td>\n",
       "      <td>1.4</td>\n",
       "      <td>0.2</td>\n",
       "      <td>Iris-setosa</td>\n",
       "    </tr>\n",
       "    <tr>\n",
       "      <th>1</th>\n",
       "      <td>4.9</td>\n",
       "      <td>3.0</td>\n",
       "      <td>1.4</td>\n",
       "      <td>0.2</td>\n",
       "      <td>Iris-setosa</td>\n",
       "    </tr>\n",
       "    <tr>\n",
       "      <th>2</th>\n",
       "      <td>4.7</td>\n",
       "      <td>3.2</td>\n",
       "      <td>1.3</td>\n",
       "      <td>0.2</td>\n",
       "      <td>Iris-setosa</td>\n",
       "    </tr>\n",
       "    <tr>\n",
       "      <th>3</th>\n",
       "      <td>4.6</td>\n",
       "      <td>3.1</td>\n",
       "      <td>1.5</td>\n",
       "      <td>0.2</td>\n",
       "      <td>Iris-setosa</td>\n",
       "    </tr>\n",
       "    <tr>\n",
       "      <th>4</th>\n",
       "      <td>5.0</td>\n",
       "      <td>3.6</td>\n",
       "      <td>1.4</td>\n",
       "      <td>0.2</td>\n",
       "      <td>Iris-setosa</td>\n",
       "    </tr>\n",
       "  </tbody>\n",
       "</table>\n",
       "</div>"
      ],
      "text/plain": [
       "   sepal_length  sepal_width  petal_length  petal_width  class_label\n",
       "0           5.1          3.5           1.4          0.2  Iris-setosa\n",
       "1           4.9          3.0           1.4          0.2  Iris-setosa\n",
       "2           4.7          3.2           1.3          0.2  Iris-setosa\n",
       "3           4.6          3.1           1.5          0.2  Iris-setosa\n",
       "4           5.0          3.6           1.4          0.2  Iris-setosa"
      ]
     },
     "execution_count": 1,
     "metadata": {},
     "output_type": "execute_result"
    }
   ],
   "source": [
    "import pandas as pd\n",
    "\n",
    "csv_path =\"https://archive.ics.uci.edu/ml/machine-learning-databases/iris/iris.data\"\n",
    "headers=[\"sepal_length\", \"sepal_width\", \"petal_length\", \"petal_width\", \"class_label\"]\n",
    "datairis = pd.read_csv(csv_path, names=headers)\n",
    "datairis.head()"
   ]
  },
  {
   "cell_type": "code",
   "execution_count": 2,
   "metadata": {},
   "outputs": [],
   "source": [
    "#pisah fitur dan kelas\n",
    "\n",
    "data= datairis[['sepal_length','sepal_width', 'petal_length','petal_width']]\n",
    "target = datairis['class_label']"
   ]
  },
  {
   "cell_type": "code",
   "execution_count": 3,
   "metadata": {},
   "outputs": [],
   "source": [
    "from sklearn.model_selection import train_test_split\n",
    "from sklearn.metrics import accuracy_score\n",
    "from sklearn.linear_model import LogisticRegression\n",
    "\n",
    "#Algoritma yang digunakan\n",
    "model = LogisticRegression(max_iter=1000)\n",
    "\n",
    "#bagi data\n",
    "x_train, x_test, y_train, y_test=train_test_split(data, target, test_size=0.2, stratify=target, random_state=5)"
   ]
  },
  {
   "cell_type": "code",
   "execution_count": 11,
   "metadata": {},
   "outputs": [
    {
     "name": "stdout",
     "output_type": "stream",
     "text": [
      "iterasi:  1\n",
      "['sepal_width', 'petal_length', 'petal_width']\n",
      "0.9666666666666667\n",
      "['sepal_length', 'petal_length', 'petal_width']\n",
      "0.9666666666666667\n",
      "['sepal_length', 'sepal_width', 'petal_width']\n",
      "0.9666666666666667\n",
      "['sepal_length', 'sepal_width', 'petal_length']\n",
      "1.0\n",
      "iterasi:  2\n",
      "['sepal_width', 'petal_length']\n",
      "0.9666666666666667\n",
      "['sepal_length', 'petal_length']\n",
      "1.0\n",
      "['sepal_length', 'sepal_width']\n",
      "0.9\n",
      "iterasi:  3\n",
      "['petal_length']\n",
      "1.0\n",
      "['sepal_length']\n",
      "0.7333333333333333\n"
     ]
    }
   ],
   "source": [
    "i = 0\n",
    "feature_set = list(data.columns)\n",
    "\n",
    "while (len(feature_set) > 1):\n",
    "    i+=1\n",
    "    print('iterasi: ', i)\n",
    "    #metric penyimpanan\n",
    "    metric_list = []\n",
    "    for feature in x_train.columns:\n",
    "        if feature in feature_set:\n",
    "            f_set = feature_set.copy()\n",
    "            f_set.remove(feature)\n",
    "            print(f_set)\n",
    "            model.fit(x_train[f_set], y_train)\n",
    "            uji = model.predict(x_test[f_set])\n",
    "            akurasi = accuracy_score(y_test, uji)\n",
    "            print(akurasi)\n",
    "            metric_list.append((akurasi, feature))\n",
    "\n",
    "    metric_list.sort(key=lambda x: x[0], reverse = True)\n",
    "    feature_set.remove(metric_list[0][1])"
   ]
  },
  {
   "cell_type": "markdown",
   "metadata": {},
   "source": [
    "# Forward Selection"
   ]
  },
  {
   "cell_type": "code",
   "execution_count": 13,
   "metadata": {},
   "outputs": [
    {
     "name": "stdout",
     "output_type": "stream",
     "text": [
      "iterasi:  1\n",
      "['sepal_length']\n",
      "0.7333333333333333\n",
      "['sepal_width']\n",
      "0.5666666666666667\n",
      "['petal_length']\n",
      "1.0\n",
      "['petal_width']\n",
      "0.9333333333333333\n",
      "iterasi:  2\n",
      "['petal_length', 'sepal_length']\n",
      "1.0\n",
      "['petal_length', 'sepal_width']\n",
      "0.9666666666666667\n",
      "['petal_length', 'petal_length']\n",
      "1.0\n",
      "['petal_length', 'petal_width']\n",
      "0.9666666666666667\n",
      "iterasi:  3\n",
      "['petal_length', 'sepal_length', 'sepal_length']\n",
      "1.0\n",
      "['petal_length', 'sepal_length', 'sepal_width']\n",
      "1.0\n",
      "['petal_length', 'sepal_length', 'petal_length']\n",
      "1.0\n",
      "['petal_length', 'sepal_length', 'petal_width']\n",
      "0.9666666666666667\n",
      "iterasi:  4\n",
      "['petal_length', 'sepal_length', 'sepal_length', 'sepal_length']\n",
      "1.0\n",
      "['petal_length', 'sepal_length', 'sepal_length', 'sepal_width']\n",
      "1.0\n",
      "['petal_length', 'sepal_length', 'sepal_length', 'petal_length']\n",
      "1.0\n",
      "['petal_length', 'sepal_length', 'sepal_length', 'petal_width']\n",
      "0.9666666666666667\n"
     ]
    }
   ],
   "source": [
    "n = len(list(data))\n",
    "i = 0\n",
    "feature_set = []\n",
    "\n",
    "for num_features in range(n):\n",
    "    i+=1\n",
    "    print('iterasi: ', i)\n",
    "    metric_list = []\n",
    "    for feature in x_train.columns:\n",
    "        f_set = feature_set.copy()\n",
    "        f_set.append(feature)\n",
    "        print(f_set)\n",
    "        model.fit(x_train[f_set], y_train)\n",
    "        uji = model.predict(x_test[f_set])\n",
    "        akurasi = accuracy_score(y_test, uji)\n",
    "        print(akurasi)\n",
    "        metric_list.append((akurasi, feature))\n",
    "    \n",
    "    metric_list.sort(key = lambda x: x[0], reverse = True)\n",
    "    feature_set.append(metric_list[0][1])"
   ]
  },
  {
   "cell_type": "code",
   "execution_count": null,
   "metadata": {},
   "outputs": [],
   "source": []
  }
 ],
 "metadata": {
  "kernelspec": {
   "display_name": "Python 3",
   "language": "python",
   "name": "python3"
  },
  "language_info": {
   "codemirror_mode": {
    "name": "ipython",
    "version": 3
   },
   "file_extension": ".py",
   "mimetype": "text/x-python",
   "name": "python",
   "nbconvert_exporter": "python",
   "pygments_lexer": "ipython3",
   "version": "3.7.7"
  }
 },
 "nbformat": 4,
 "nbformat_minor": 4
}
